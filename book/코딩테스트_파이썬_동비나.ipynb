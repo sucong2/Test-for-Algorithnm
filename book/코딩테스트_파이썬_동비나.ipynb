{
  "nbformat": 4,
  "nbformat_minor": 0,
  "metadata": {
    "colab": {
      "provenance": [],
      "authorship_tag": "ABX9TyNpDp2aO+2n3X9hg7zgDR3l",
      "include_colab_link": true
    },
    "kernelspec": {
      "name": "python3",
      "display_name": "Python 3"
    },
    "language_info": {
      "name": "python"
    }
  },
  "cells": [
    {
      "cell_type": "markdown",
      "metadata": {
        "id": "view-in-github",
        "colab_type": "text"
      },
      "source": [
        "<a href=\"https://colab.research.google.com/github/sucong2/Test-for-python/blob/main/book/%EC%BD%94%EB%94%A9%ED%85%8C%EC%8A%A4%ED%8A%B8_%ED%8C%8C%EC%9D%B4%EC%8D%AC_%EB%8F%99%EB%B9%84%EB%82%98.ipynb\" target=\"_parent\"><img src=\"https://colab.research.google.com/assets/colab-badge.svg\" alt=\"Open In Colab\"/></a>"
      ]
    },
    {
      "cell_type": "code",
      "execution_count": 1,
      "metadata": {
        "colab": {
          "base_uri": "https://localhost:8080/"
        },
        "id": "RH1FKc2jjp7z",
        "outputId": "e2a3354c-0204-45e2-9c90-f1c7befe6528"
      },
      "outputs": [
        {
          "output_type": "stream",
          "name": "stdout",
          "text": [
            "6\n"
          ]
        }
      ],
      "source": [
        "n = 1260 # 거스를 돈\n",
        "count = 0 # 거스를 동전 갯수\n",
        "coin_type = [500, 100, 50, 10] # 동전 종류\n",
        "\n",
        "for coin in coin_type: #동전종류 순서대로 \n",
        "  count += n // coin # 동전 갯수 카운팅\n",
        "  n %= coin # 남은 돈을 거스를 돈으로 변환\n",
        "\n",
        "print(count) # 카운팅 한 동전 갯수 출력"
      ]
    }
  ]
}